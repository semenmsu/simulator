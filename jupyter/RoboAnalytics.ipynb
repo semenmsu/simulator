{
 "cells": [
  {
   "cell_type": "code",
   "execution_count": 25,
   "metadata": {},
   "outputs": [],
   "source": [
    "import os\n",
    "import matplotlib.pyplot as plt\n",
    "from functools import reduce\n",
    "from itertools import accumulate\n",
    "data_dir = \"../result\"\n",
    "file_name = \"robo.csv\"\n",
    "\n",
    "path = os.path.join(data_dir, file_name)"
   ]
  },
  {
   "cell_type": "code",
   "execution_count": 26,
   "metadata": {},
   "outputs": [],
   "source": [
    "class Trade:\n",
    "    def __init__(self, line):\n",
    "        values = line.split(',')\n",
    "        self.ts = values[1]\n",
    "        self.isin_id = values[2]\n",
    "        self.orderid = values[3]\n",
    "        self.price = int(values[4])\n",
    "        self.amount = int(values[5])\n",
    "        self.dir = int(values[6])\n",
    "        self.user_code = values[7]\n",
    "        \n",
    "    def __repr__(self):\n",
    "        #return \"price = {}, amount = {}, dir = {}\" %(self.price, self.amount, self.dir)\n",
    "        #return \"price = {}\".format(self.price)\n",
    "        return f'price={self.price}, amount={self.amount}, dir={self.dir}'\n",
    "    \n",
    "class Robo:\n",
    "    profit = 0.\n",
    "    money = 0.\n",
    "    position = 0\n",
    "    trades = []\n",
    "    profit_history = []\n",
    "    \n",
    "    def get_profit(self):\n",
    "        return self.profit/1000000\n",
    "    \n",
    "    def read_csv(self, path):\n",
    "        trades = []\n",
    "        with open(path, \"r\") as trades_file:\n",
    "            for line in trades_file:\n",
    "                trade = Trade(line)\n",
    "                self.trades.append(trade)\n",
    "        \n",
    "    def calculate_profit(self):\n",
    "        self.profit_history = accumulate_profit(self, self.trades)\n",
    "        \n",
    "        \n",
    "    \n",
    "def calc_profit(robo, trade):\n",
    "    if trade.dir == 1:\n",
    "        robo.money -=trade.amount*trade.price\n",
    "        robo.position += trade.amount\n",
    "    else:\n",
    "        robo.money +=trade.amount*trade.price\n",
    "        robo.position -= trade.amount\n",
    "    robo.profit = robo.money + trade.price * robo.position\n",
    "    return robo\n",
    "    \n",
    "def accumulate_profit(robo, trades):\n",
    "    profit = []\n",
    "    for trade in trades:\n",
    "        calc_profit(robo, trade)\n",
    "        profit.append(robo.get_profit())\n",
    "    return profit"
   ]
  },
  {
   "cell_type": "code",
   "execution_count": 27,
   "metadata": {},
   "outputs": [],
   "source": [
    "robo = Robo()\n",
    "robo.read_csv(path)\n",
    "robo.calculate_profit()\n"
   ]
  },
  {
   "cell_type": "code",
   "execution_count": 28,
   "metadata": {},
   "outputs": [
    {
     "data": {
      "image/png": "[encoded data removed]",
      "text/plain": [
       "<Figure size 432x288 with 1 Axes>"
      ]
     },
     "metadata": {},
     "output_type": "display_data"
    }
   ],
   "source": [
    "plt.plot(robo.profit_history)\n",
    "plt.show()"
   ]
  },
  {
   "cell_type": "code",
   "execution_count": null,
   "metadata": {},
   "outputs": [],
   "source": []
  },
  {
   "cell_type": "code",
   "execution_count": null,
   "metadata": {},
   "outputs": [],
   "source": []
  },
  {
   "cell_type": "code",
   "execution_count": null,
   "metadata": {},
   "outputs": [],
   "source": []
  },
  {
   "cell_type": "code",
   "execution_count": null,
   "metadata": {},
   "outputs": [],
   "source": []
  }
 ],
 "metadata": {
  "kernelspec": {
   "display_name": "Python 3",
   "language": "python",
   "name": "python3"
  },
  "language_info": {
   "codemirror_mode": {
    "name": "ipython",
    "version": 3
   },
   "file_extension": ".py",
   "mimetype": "text/x-python",
   "name": "python",
   "nbconvert_exporter": "python",
   "pygments_lexer": "ipython3",
   "version": "3.6.6"
  }
 },
 "nbformat": 4,
 "nbformat_minor": 2
}
